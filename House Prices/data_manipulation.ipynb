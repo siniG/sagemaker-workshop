{
 "cells": [
  {
   "cell_type": "code",
   "execution_count": null,
   "metadata": {},
   "outputs": [],
   "source": [
    "%matplotlib inline\n",
    "import numpy as np # linear algebra\n",
    "import pandas as pd # data processing, CSV file I/O (e.g. pd.read_csv)\n",
    "import matplotlib.pyplot as plt\n",
    "import seaborn as sns\n",
    "# Input data files are available in the \"../input/\" directory.\n",
    "# For example, running this (by clicking run or pressing Shift+Enter) will list the files in the input directory\n",
    "\n",
    "import os\n",
    "print(os.listdir(\"./inputs\"))"
   ]
  },
  {
   "cell_type": "code",
   "execution_count": null,
   "metadata": {},
   "outputs": [],
   "source": [
    "x=pd.read_csv('./inputs/train.csv')\n",
    "y=pd.read_csv('./inputs/test.csv')"
   ]
  },
  {
   "cell_type": "code",
   "execution_count": null,
   "metadata": {},
   "outputs": [],
   "source": [
    "pd.options.display.max_columns = 999\n",
    "x.head(10)"
   ]
  },
  {
   "cell_type": "code",
   "execution_count": null,
   "metadata": {},
   "outputs": [],
   "source": [
    "from sklearn.preprocessing import LabelEncoder as le\n",
    "x['Alley']=le().fit_transform(x['Alley'].astype(str))\n",
    "x=x.drop(['PoolQC','Alley','MiscFeature'],axis=1)\n",
    "y=y.drop(['PoolQC','Alley','MiscFeature'],axis=1)"
   ]
  },
  {
   "cell_type": "code",
   "execution_count": null,
   "metadata": {},
   "outputs": [],
   "source": [
    "y.shape\n"
   ]
  },
  {
   "cell_type": "code",
   "execution_count": null,
   "metadata": {},
   "outputs": [],
   "source": [
    "x.LotFrontage.fillna(x.LotFrontage.median(),inplace=True)\n",
    "y.LotFrontage.fillna(y.LotFrontage.median(),inplace=True)"
   ]
  },
  {
   "cell_type": "code",
   "execution_count": null,
   "metadata": {},
   "outputs": [],
   "source": [
    "x=x.drop(['Fence'],axis=1)\n",
    "y=y.drop(['Fence'],axis=1)"
   ]
  },
  {
   "cell_type": "code",
   "execution_count": null,
   "metadata": {},
   "outputs": [],
   "source": [
    "x.info()\n"
   ]
  },
  {
   "cell_type": "code",
   "execution_count": null,
   "metadata": {},
   "outputs": [],
   "source": [
    "for c,d in zip(x.columns,y.columns):\n",
    "    if x[c].dtype=='object':\n",
    "        x[c]=le().fit_transform(x[c].astype(str))\n",
    "        y[d]=le().fit_transform(y[d].astype(str))"
   ]
  },
  {
   "cell_type": "code",
   "execution_count": null,
   "metadata": {},
   "outputs": [],
   "source": [
    "y.shape\n"
   ]
  },
  {
   "cell_type": "code",
   "execution_count": null,
   "metadata": {},
   "outputs": [],
   "source": [
    "x['GarageYrBlt']=x.GarageYrBlt.fillna(x.GarageYrBlt.median())\n"
   ]
  },
  {
   "cell_type": "code",
   "execution_count": null,
   "metadata": {},
   "outputs": [],
   "source": [
    "y['MSZoning']=le().fit_transform(y['MSZoning'].astype(str))\n"
   ]
  },
  {
   "cell_type": "code",
   "execution_count": null,
   "metadata": {},
   "outputs": [],
   "source": [
    "y=y.apply(lambda f:f.fillna(f.median()))\n"
   ]
  },
  {
   "cell_type": "code",
   "execution_count": null,
   "metadata": {},
   "outputs": [],
   "source": [
    "x.dropna(inplace=True)\n"
   ]
  },
  {
   "cell_type": "code",
   "execution_count": null,
   "metadata": {},
   "outputs": [],
   "source": [
    "y.shape\n"
   ]
  },
  {
   "cell_type": "code",
   "execution_count": null,
   "metadata": {},
   "outputs": [],
   "source": [
    "x['Exterior']=x.loc[:,'Exterior1st']+x.loc[:,'Exterior2nd']\n",
    "x['FlrSF']=x.loc[:,'1stFlrSF']+x.loc[:,'2ndFlrSF']\n",
    "x=x.drop(['Condition1','Condition2','Exterior1st','Exterior2nd','BsmtFinSF1','BsmtUnfSF'],axis=1)\n",
    "\n",
    "y['Exterior']=y.loc[:,'Exterior1st']+y.loc[:,'Exterior2nd']\n",
    "y['FlrSF']=y.loc[:,'1stFlrSF']+y.loc[:,'2ndFlrSF']\n",
    "y=y.drop(['Condition1','Condition2','Exterior1st','Exterior2nd','BsmtFinSF1','BsmtUnfSF'],axis=1)"
   ]
  },
  {
   "cell_type": "code",
   "execution_count": null,
   "metadata": {},
   "outputs": [],
   "source": [
    "x['Bath']=x.loc[:,'BsmtFullBath']+x.loc[:,'FullBath']+x.loc[:,'BsmtHalfBath']+x.loc[:,'HalfBath']\n",
    "y['Bath']=y.loc[:,'BsmtFullBath']+y.loc[:,'FullBath']+y.loc[:,'BsmtHalfBath']+y.loc[:,'HalfBath']\n",
    "x['Sold']=x.loc[:,'YrSold']+(x.loc[:,'MoSold']/12).astype(float)\n",
    "x['Porch']=x.loc[:,'OpenPorchSF']+x.loc[:,'EnclosedPorch']+x.loc[:,'3SsnPorch']+x.loc[:,'ScreenPorch']\n",
    "y['Porch']=y.loc[:,'OpenPorchSF']+y.loc[:,'EnclosedPorch']+y.loc[:,'3SsnPorch']+y.loc[:,'ScreenPorch']\n",
    "y['Sold']=y.loc[:,'YrSold']+(y.loc[:,'MoSold']/12).astype(float)\n",
    "x=x.drop(['BsmtExposure','BsmtFullBath','BsmtHalfBath','FullBath','HalfBath','YrSold','MoSold','MiscVal','OpenPorchSF','EnclosedPorch','3SsnPorch','ScreenPorch'],axis=1)\n",
    "y=y.drop(['BsmtExposure','BsmtFullBath','BsmtHalfBath','FullBath','HalfBath','YrSold','MoSold','MiscVal','OpenPorchSF','EnclosedPorch','3SsnPorch','ScreenPorch'],axis=1)"
   ]
  },
  {
   "cell_type": "code",
   "execution_count": null,
   "metadata": {},
   "outputs": [],
   "source": [
    "x=x.drop(['GarageCars','GarageFinish','BedroomAbvGr','KitchenAbvGr','1stFlrSF','2ndFlrSF'],axis=1)\n",
    "y=y.drop(['GarageCars','GarageFinish','KitchenAbvGr','BedroomAbvGr','1stFlrSF','2ndFlrSF'],axis=1)"
   ]
  },
  {
   "cell_type": "code",
   "execution_count": null,
   "metadata": {},
   "outputs": [],
   "source": [
    "x=x.drop(['GarageYrBlt'],axis=1)\n",
    "y=y.drop(['GarageYrBlt'],axis=1)"
   ]
  },
  {
   "cell_type": "code",
   "execution_count": null,
   "metadata": {},
   "outputs": [],
   "source": [
    "x=x.drop(['Id'],axis=1)\n",
    "y=y.drop(['Id'],axis=1)"
   ]
  },
  {
   "cell_type": "code",
   "execution_count": null,
   "metadata": {},
   "outputs": [],
   "source": [
    "q=x.corr()\n"
   ]
  },
  {
   "cell_type": "code",
   "execution_count": null,
   "metadata": {},
   "outputs": [],
   "source": [
    "x['SalePrice']=np.log(x['SalePrice'])\n"
   ]
  },
  {
   "cell_type": "code",
   "execution_count": null,
   "metadata": {},
   "outputs": [],
   "source": [
    "def match(m):\n",
    "    if m>0.75 or m<-0.75:\n",
    "        return 1\n",
    "    else:\n",
    "        return 0\n",
    "p=q.applymap(match)\n",
    "p=p.values.reshape(x.shape[1],x.shape[1])"
   ]
  },
  {
   "cell_type": "code",
   "execution_count": null,
   "metadata": {},
   "outputs": [],
   "source": [
    "j=zip(*np.where(p==1))\n",
    "l=[]\n",
    "for a,b in j:\n",
    "    if a!=b:\n",
    "        l.append((a,b))\n",
    "print(l)"
   ]
  },
  {
   "cell_type": "code",
   "execution_count": null,
   "metadata": {},
   "outputs": [],
   "source": [
    "q=[]\n",
    "for a,b in l:\n",
    "    q.append((list(x.columns)[a],list(x.columns)[b]))\n",
    "print(q)"
   ]
  },
  {
   "cell_type": "code",
   "execution_count": null,
   "metadata": {},
   "outputs": [],
   "source": [
    "x.corr().loc[:,['SalePrice','OverallQual','GrLivArea','TotRmsAbvGrd','FlrSF']]\n"
   ]
  },
  {
   "cell_type": "code",
   "execution_count": null,
   "metadata": {},
   "outputs": [],
   "source": [
    "x=x.drop(['FlrSF','GrLivArea'],axis=1)\n",
    "y=y.drop(['FlrSF','GrLivArea'],axis=1)"
   ]
  },
  {
   "cell_type": "code",
   "execution_count": null,
   "metadata": {},
   "outputs": [],
   "source": [
    "y.head(5)"
   ]
  },
  {
   "cell_type": "code",
   "execution_count": null,
   "metadata": {},
   "outputs": [],
   "source": [
    "z=x['SalePrice']\n",
    "x=x.drop(['SalePrice'],axis=1)"
   ]
  },
  {
   "cell_type": "code",
   "execution_count": null,
   "metadata": {},
   "outputs": [],
   "source": [
    "x.shape"
   ]
  },
  {
   "cell_type": "code",
   "execution_count": null,
   "metadata": {},
   "outputs": [],
   "source": [
    "y.to_csv('data/test.csv')\n",
    "x.to_csv('data/train.csv')\n",
    "z.to_csv('data/label.csv')"
   ]
  },
  {
   "cell_type": "code",
   "execution_count": null,
   "metadata": {},
   "outputs": [],
   "source": [
    "z.shape"
   ]
  },
  {
   "cell_type": "code",
   "execution_count": null,
   "metadata": {},
   "outputs": [],
   "source": [
    "z.head(5)"
   ]
  },
  {
   "cell_type": "code",
   "execution_count": null,
   "metadata": {},
   "outputs": [],
   "source": []
  }
 ],
 "metadata": {
  "kernelspec": {
   "display_name": "conda_mxnet_p36",
   "language": "python",
   "name": "conda_mxnet_p36"
  },
  "language_info": {
   "codemirror_mode": {
    "name": "ipython",
    "version": 3
   },
   "file_extension": ".py",
   "mimetype": "text/x-python",
   "name": "python",
   "nbconvert_exporter": "python",
   "pygments_lexer": "ipython3",
   "version": "3.6.4"
  }
 },
 "nbformat": 4,
 "nbformat_minor": 2
}
