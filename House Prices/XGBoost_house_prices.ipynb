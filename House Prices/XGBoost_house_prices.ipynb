{
 "cells": [
  {
   "cell_type": "markdown",
   "metadata": {},
   "source": [
    "# Regression with Amazon SageMaker XGBoost algorithm\n",
    "## house prices prediction\n",
    "\n",
    "---\n",
    "\n",
    "---\n",
    "## Contents\n",
    "\n",
    "1. [Data Preprocessing](#Data-Preprocessing)\n",
    "2. [Training the XGBoost model](#Training-the-XGBoost-model)\n",
    "3. [Set up hosting for the model](#Set-up-hosting-for-the-model)\n",
    "5. [Using SageMaker Endpoint](#Using-SageMaker-Endpoint)\n",
    "\n",
    "---"
   ]
  },
  {
   "cell_type": "code",
   "execution_count": 2,
   "metadata": {},
   "outputs": [
    {
     "name": "stderr",
     "output_type": "stream",
     "text": [
      "/home/ec2-user/anaconda3/envs/mxnet_p36/lib/python3.6/site-packages/h5py/__init__.py:36: FutureWarning: Conversion of the second argument of issubdtype from `float` to `np.floating` is deprecated. In future, it will be treated as `np.float64 == np.dtype(float).type`.\n",
      "  from ._conv import register_converters as _register_converters\n"
     ]
    }
   ],
   "source": [
    "import os\n",
    "import boto3\n",
    "import re\n",
    "import copy\n",
    "import time\n",
    "import pandas as pd\n",
    "import numpy as np\n",
    "import sagemaker\n",
    "from mxnet import nd\n",
    "from time import gmtime, strftime\n",
    "from sagemaker import get_execution_role\n",
    "\n",
    "role = get_execution_role()\n",
    "\n",
    "region = boto3.Session().region_name\n",
    "sagemaker_session = sagemaker.Session()\n",
    "\n",
    "bucket='sagemaker-eu-west-1-483308273948' # put your s3 bucket name here, and create s3 bucket\n",
    "prefix = 'house_prices'\n",
    "# customize to your bucket where you have stored the data\n",
    "bucket_path = 'https://s3-{}.amazonaws.com/{}'.format(region,bucket)"
   ]
  },
  {
   "cell_type": "markdown",
   "metadata": {},
   "source": [
    "# Data Preprocessing\n",
    "\n",
    "We'll read the dataset from the existing repository into memory, for preprocessing prior to training. This processing could be done by Amazon Athena, Apache Spark in Amazon EMR, Amazon Redshift, etc., a\n",
    "ssuming the dataset is present in the appropriate location. Then, the next step would be to transfer the data to S3 for use in training. For small datasets, such as this one, reading into memory isn't onerous, though it would be for larger datasets.\n"
   ]
  },
  {
   "cell_type": "code",
   "execution_count": 3,
   "metadata": {},
   "outputs": [],
   "source": [
    "train = pd.read_csv('data/train.csv')\n",
    "label = pd.read_csv('data/label.csv', header=None)[1]"
   ]
  },
  {
   "cell_type": "code",
   "execution_count": 4,
   "metadata": {},
   "outputs": [
    {
     "data": {
      "text/html": [
       "<div>\n",
       "<style scoped>\n",
       "    .dataframe tbody tr th:only-of-type {\n",
       "        vertical-align: middle;\n",
       "    }\n",
       "\n",
       "    .dataframe tbody tr th {\n",
       "        vertical-align: top;\n",
       "    }\n",
       "\n",
       "    .dataframe thead th {\n",
       "        text-align: right;\n",
       "    }\n",
       "</style>\n",
       "<table border=\"1\" class=\"dataframe\">\n",
       "  <thead>\n",
       "    <tr style=\"text-align: right;\">\n",
       "      <th></th>\n",
       "      <th>Unnamed: 0</th>\n",
       "      <th>MSSubClass</th>\n",
       "      <th>MSZoning</th>\n",
       "      <th>LotFrontage</th>\n",
       "      <th>LotArea</th>\n",
       "      <th>Street</th>\n",
       "      <th>LotShape</th>\n",
       "      <th>LandContour</th>\n",
       "      <th>Utilities</th>\n",
       "      <th>LotConfig</th>\n",
       "      <th>LandSlope</th>\n",
       "      <th>Neighborhood</th>\n",
       "      <th>BldgType</th>\n",
       "      <th>HouseStyle</th>\n",
       "      <th>OverallQual</th>\n",
       "      <th>OverallCond</th>\n",
       "      <th>YearBuilt</th>\n",
       "      <th>YearRemodAdd</th>\n",
       "      <th>RoofStyle</th>\n",
       "      <th>RoofMatl</th>\n",
       "      <th>MasVnrType</th>\n",
       "      <th>MasVnrArea</th>\n",
       "      <th>ExterQual</th>\n",
       "      <th>ExterCond</th>\n",
       "      <th>Foundation</th>\n",
       "      <th>BsmtQual</th>\n",
       "      <th>BsmtCond</th>\n",
       "      <th>BsmtFinType1</th>\n",
       "      <th>BsmtFinType2</th>\n",
       "      <th>BsmtFinSF2</th>\n",
       "      <th>TotalBsmtSF</th>\n",
       "      <th>Heating</th>\n",
       "      <th>HeatingQC</th>\n",
       "      <th>CentralAir</th>\n",
       "      <th>Electrical</th>\n",
       "      <th>LowQualFinSF</th>\n",
       "      <th>KitchenQual</th>\n",
       "      <th>TotRmsAbvGrd</th>\n",
       "      <th>Functional</th>\n",
       "      <th>Fireplaces</th>\n",
       "      <th>FireplaceQu</th>\n",
       "      <th>GarageType</th>\n",
       "      <th>GarageArea</th>\n",
       "      <th>GarageQual</th>\n",
       "      <th>GarageCond</th>\n",
       "      <th>PavedDrive</th>\n",
       "      <th>WoodDeckSF</th>\n",
       "      <th>PoolArea</th>\n",
       "      <th>SaleType</th>\n",
       "      <th>SaleCondition</th>\n",
       "      <th>Exterior</th>\n",
       "      <th>Bath</th>\n",
       "      <th>Sold</th>\n",
       "      <th>Porch</th>\n",
       "    </tr>\n",
       "  </thead>\n",
       "  <tbody>\n",
       "    <tr>\n",
       "      <th>0</th>\n",
       "      <td>0</td>\n",
       "      <td>60</td>\n",
       "      <td>3</td>\n",
       "      <td>65.0</td>\n",
       "      <td>8450</td>\n",
       "      <td>1</td>\n",
       "      <td>3</td>\n",
       "      <td>3</td>\n",
       "      <td>0</td>\n",
       "      <td>4</td>\n",
       "      <td>0</td>\n",
       "      <td>5</td>\n",
       "      <td>0</td>\n",
       "      <td>5</td>\n",
       "      <td>7</td>\n",
       "      <td>5</td>\n",
       "      <td>2003</td>\n",
       "      <td>2003</td>\n",
       "      <td>1</td>\n",
       "      <td>1</td>\n",
       "      <td>1</td>\n",
       "      <td>196.0</td>\n",
       "      <td>2</td>\n",
       "      <td>4</td>\n",
       "      <td>2</td>\n",
       "      <td>2</td>\n",
       "      <td>3</td>\n",
       "      <td>2</td>\n",
       "      <td>5</td>\n",
       "      <td>0</td>\n",
       "      <td>856</td>\n",
       "      <td>1</td>\n",
       "      <td>0</td>\n",
       "      <td>1</td>\n",
       "      <td>4</td>\n",
       "      <td>0</td>\n",
       "      <td>2</td>\n",
       "      <td>8</td>\n",
       "      <td>6</td>\n",
       "      <td>0</td>\n",
       "      <td>5</td>\n",
       "      <td>1</td>\n",
       "      <td>548</td>\n",
       "      <td>4</td>\n",
       "      <td>4</td>\n",
       "      <td>2</td>\n",
       "      <td>0</td>\n",
       "      <td>0</td>\n",
       "      <td>8</td>\n",
       "      <td>4</td>\n",
       "      <td>25</td>\n",
       "      <td>4</td>\n",
       "      <td>2008.166667</td>\n",
       "      <td>61</td>\n",
       "    </tr>\n",
       "    <tr>\n",
       "      <th>1</th>\n",
       "      <td>1</td>\n",
       "      <td>20</td>\n",
       "      <td>3</td>\n",
       "      <td>80.0</td>\n",
       "      <td>9600</td>\n",
       "      <td>1</td>\n",
       "      <td>3</td>\n",
       "      <td>3</td>\n",
       "      <td>0</td>\n",
       "      <td>2</td>\n",
       "      <td>0</td>\n",
       "      <td>24</td>\n",
       "      <td>0</td>\n",
       "      <td>2</td>\n",
       "      <td>6</td>\n",
       "      <td>8</td>\n",
       "      <td>1976</td>\n",
       "      <td>1976</td>\n",
       "      <td>1</td>\n",
       "      <td>1</td>\n",
       "      <td>2</td>\n",
       "      <td>0.0</td>\n",
       "      <td>3</td>\n",
       "      <td>4</td>\n",
       "      <td>1</td>\n",
       "      <td>2</td>\n",
       "      <td>3</td>\n",
       "      <td>0</td>\n",
       "      <td>5</td>\n",
       "      <td>0</td>\n",
       "      <td>1262</td>\n",
       "      <td>1</td>\n",
       "      <td>0</td>\n",
       "      <td>1</td>\n",
       "      <td>4</td>\n",
       "      <td>0</td>\n",
       "      <td>3</td>\n",
       "      <td>6</td>\n",
       "      <td>6</td>\n",
       "      <td>1</td>\n",
       "      <td>4</td>\n",
       "      <td>1</td>\n",
       "      <td>460</td>\n",
       "      <td>4</td>\n",
       "      <td>4</td>\n",
       "      <td>2</td>\n",
       "      <td>298</td>\n",
       "      <td>0</td>\n",
       "      <td>8</td>\n",
       "      <td>4</td>\n",
       "      <td>16</td>\n",
       "      <td>3</td>\n",
       "      <td>2007.416667</td>\n",
       "      <td>0</td>\n",
       "    </tr>\n",
       "    <tr>\n",
       "      <th>2</th>\n",
       "      <td>2</td>\n",
       "      <td>60</td>\n",
       "      <td>3</td>\n",
       "      <td>68.0</td>\n",
       "      <td>11250</td>\n",
       "      <td>1</td>\n",
       "      <td>0</td>\n",
       "      <td>3</td>\n",
       "      <td>0</td>\n",
       "      <td>4</td>\n",
       "      <td>0</td>\n",
       "      <td>5</td>\n",
       "      <td>0</td>\n",
       "      <td>5</td>\n",
       "      <td>7</td>\n",
       "      <td>5</td>\n",
       "      <td>2001</td>\n",
       "      <td>2002</td>\n",
       "      <td>1</td>\n",
       "      <td>1</td>\n",
       "      <td>1</td>\n",
       "      <td>162.0</td>\n",
       "      <td>2</td>\n",
       "      <td>4</td>\n",
       "      <td>2</td>\n",
       "      <td>2</td>\n",
       "      <td>3</td>\n",
       "      <td>2</td>\n",
       "      <td>5</td>\n",
       "      <td>0</td>\n",
       "      <td>920</td>\n",
       "      <td>1</td>\n",
       "      <td>0</td>\n",
       "      <td>1</td>\n",
       "      <td>4</td>\n",
       "      <td>0</td>\n",
       "      <td>2</td>\n",
       "      <td>6</td>\n",
       "      <td>6</td>\n",
       "      <td>1</td>\n",
       "      <td>4</td>\n",
       "      <td>1</td>\n",
       "      <td>608</td>\n",
       "      <td>4</td>\n",
       "      <td>4</td>\n",
       "      <td>2</td>\n",
       "      <td>0</td>\n",
       "      <td>0</td>\n",
       "      <td>8</td>\n",
       "      <td>4</td>\n",
       "      <td>25</td>\n",
       "      <td>4</td>\n",
       "      <td>2008.750000</td>\n",
       "      <td>42</td>\n",
       "    </tr>\n",
       "    <tr>\n",
       "      <th>3</th>\n",
       "      <td>3</td>\n",
       "      <td>70</td>\n",
       "      <td>3</td>\n",
       "      <td>60.0</td>\n",
       "      <td>9550</td>\n",
       "      <td>1</td>\n",
       "      <td>0</td>\n",
       "      <td>3</td>\n",
       "      <td>0</td>\n",
       "      <td>0</td>\n",
       "      <td>0</td>\n",
       "      <td>6</td>\n",
       "      <td>0</td>\n",
       "      <td>5</td>\n",
       "      <td>7</td>\n",
       "      <td>5</td>\n",
       "      <td>1915</td>\n",
       "      <td>1970</td>\n",
       "      <td>1</td>\n",
       "      <td>1</td>\n",
       "      <td>2</td>\n",
       "      <td>0.0</td>\n",
       "      <td>3</td>\n",
       "      <td>4</td>\n",
       "      <td>0</td>\n",
       "      <td>3</td>\n",
       "      <td>1</td>\n",
       "      <td>0</td>\n",
       "      <td>5</td>\n",
       "      <td>0</td>\n",
       "      <td>756</td>\n",
       "      <td>1</td>\n",
       "      <td>2</td>\n",
       "      <td>1</td>\n",
       "      <td>4</td>\n",
       "      <td>0</td>\n",
       "      <td>2</td>\n",
       "      <td>7</td>\n",
       "      <td>6</td>\n",
       "      <td>1</td>\n",
       "      <td>2</td>\n",
       "      <td>5</td>\n",
       "      <td>642</td>\n",
       "      <td>4</td>\n",
       "      <td>4</td>\n",
       "      <td>2</td>\n",
       "      <td>0</td>\n",
       "      <td>0</td>\n",
       "      <td>8</td>\n",
       "      <td>0</td>\n",
       "      <td>28</td>\n",
       "      <td>2</td>\n",
       "      <td>2006.166667</td>\n",
       "      <td>307</td>\n",
       "    </tr>\n",
       "    <tr>\n",
       "      <th>4</th>\n",
       "      <td>4</td>\n",
       "      <td>60</td>\n",
       "      <td>3</td>\n",
       "      <td>84.0</td>\n",
       "      <td>14260</td>\n",
       "      <td>1</td>\n",
       "      <td>0</td>\n",
       "      <td>3</td>\n",
       "      <td>0</td>\n",
       "      <td>2</td>\n",
       "      <td>0</td>\n",
       "      <td>15</td>\n",
       "      <td>0</td>\n",
       "      <td>5</td>\n",
       "      <td>8</td>\n",
       "      <td>5</td>\n",
       "      <td>2000</td>\n",
       "      <td>2000</td>\n",
       "      <td>1</td>\n",
       "      <td>1</td>\n",
       "      <td>1</td>\n",
       "      <td>350.0</td>\n",
       "      <td>2</td>\n",
       "      <td>4</td>\n",
       "      <td>2</td>\n",
       "      <td>2</td>\n",
       "      <td>3</td>\n",
       "      <td>2</td>\n",
       "      <td>5</td>\n",
       "      <td>0</td>\n",
       "      <td>1145</td>\n",
       "      <td>1</td>\n",
       "      <td>0</td>\n",
       "      <td>1</td>\n",
       "      <td>4</td>\n",
       "      <td>0</td>\n",
       "      <td>2</td>\n",
       "      <td>9</td>\n",
       "      <td>6</td>\n",
       "      <td>1</td>\n",
       "      <td>4</td>\n",
       "      <td>1</td>\n",
       "      <td>836</td>\n",
       "      <td>4</td>\n",
       "      <td>4</td>\n",
       "      <td>2</td>\n",
       "      <td>192</td>\n",
       "      <td>0</td>\n",
       "      <td>8</td>\n",
       "      <td>4</td>\n",
       "      <td>25</td>\n",
       "      <td>4</td>\n",
       "      <td>2009.000000</td>\n",
       "      <td>84</td>\n",
       "    </tr>\n",
       "  </tbody>\n",
       "</table>\n",
       "</div>"
      ],
      "text/plain": [
       "   Unnamed: 0  MSSubClass  MSZoning  LotFrontage  LotArea  Street  LotShape  \\\n",
       "0           0          60         3         65.0     8450       1         3   \n",
       "1           1          20         3         80.0     9600       1         3   \n",
       "2           2          60         3         68.0    11250       1         0   \n",
       "3           3          70         3         60.0     9550       1         0   \n",
       "4           4          60         3         84.0    14260       1         0   \n",
       "\n",
       "   LandContour  Utilities  LotConfig  LandSlope  Neighborhood  BldgType  \\\n",
       "0            3          0          4          0             5         0   \n",
       "1            3          0          2          0            24         0   \n",
       "2            3          0          4          0             5         0   \n",
       "3            3          0          0          0             6         0   \n",
       "4            3          0          2          0            15         0   \n",
       "\n",
       "   HouseStyle  OverallQual  OverallCond  YearBuilt  YearRemodAdd  RoofStyle  \\\n",
       "0           5            7            5       2003          2003          1   \n",
       "1           2            6            8       1976          1976          1   \n",
       "2           5            7            5       2001          2002          1   \n",
       "3           5            7            5       1915          1970          1   \n",
       "4           5            8            5       2000          2000          1   \n",
       "\n",
       "   RoofMatl  MasVnrType  MasVnrArea  ExterQual  ExterCond  Foundation  \\\n",
       "0         1           1       196.0          2          4           2   \n",
       "1         1           2         0.0          3          4           1   \n",
       "2         1           1       162.0          2          4           2   \n",
       "3         1           2         0.0          3          4           0   \n",
       "4         1           1       350.0          2          4           2   \n",
       "\n",
       "   BsmtQual  BsmtCond  BsmtFinType1  BsmtFinType2  BsmtFinSF2  TotalBsmtSF  \\\n",
       "0         2         3             2             5           0          856   \n",
       "1         2         3             0             5           0         1262   \n",
       "2         2         3             2             5           0          920   \n",
       "3         3         1             0             5           0          756   \n",
       "4         2         3             2             5           0         1145   \n",
       "\n",
       "   Heating  HeatingQC  CentralAir  Electrical  LowQualFinSF  KitchenQual  \\\n",
       "0        1          0           1           4             0            2   \n",
       "1        1          0           1           4             0            3   \n",
       "2        1          0           1           4             0            2   \n",
       "3        1          2           1           4             0            2   \n",
       "4        1          0           1           4             0            2   \n",
       "\n",
       "   TotRmsAbvGrd  Functional  Fireplaces  FireplaceQu  GarageType  GarageArea  \\\n",
       "0             8           6           0            5           1         548   \n",
       "1             6           6           1            4           1         460   \n",
       "2             6           6           1            4           1         608   \n",
       "3             7           6           1            2           5         642   \n",
       "4             9           6           1            4           1         836   \n",
       "\n",
       "   GarageQual  GarageCond  PavedDrive  WoodDeckSF  PoolArea  SaleType  \\\n",
       "0           4           4           2           0         0         8   \n",
       "1           4           4           2         298         0         8   \n",
       "2           4           4           2           0         0         8   \n",
       "3           4           4           2           0         0         8   \n",
       "4           4           4           2         192         0         8   \n",
       "\n",
       "   SaleCondition  Exterior  Bath         Sold  Porch  \n",
       "0              4        25     4  2008.166667     61  \n",
       "1              4        16     3  2007.416667      0  \n",
       "2              4        25     4  2008.750000     42  \n",
       "3              0        28     2  2006.166667    307  \n",
       "4              4        25     4  2009.000000     84  "
      ]
     },
     "execution_count": 4,
     "metadata": {},
     "output_type": "execute_result"
    }
   ],
   "source": [
    "pd.options.display.max_columns = 999\n",
    "train.head(5)"
   ]
  },
  {
   "cell_type": "code",
   "execution_count": 5,
   "metadata": {},
   "outputs": [],
   "source": [
    "# Splitting data into validation and training and breaking dataset into data and label\n",
    "\n",
    "# 80%-20% training to validation\n",
    "train = train.as_matrix()\n",
    "label = label.as_matrix()\n",
    "train_size = int(train.shape[0]*0.8)\n",
    "\n",
    "train_data  = train[:train_size,:]\n",
    "val_data = train[train_size:,:]\n",
    "\n",
    "train_label = label[:train_size]\n",
    "val_label = label[train_size:]"
   ]
  },
  {
   "cell_type": "code",
   "execution_count": 6,
   "metadata": {},
   "outputs": [
    {
     "name": "stdout",
     "output_type": "stream",
     "text": [
      "train: (1161, 54) (1161,)\n",
      "Writing to s3://sagemaker-eu-west-1-483308273948/house_prices/csv/train\n",
      "Done writing to s3://sagemaker-eu-west-1-483308273948/house_prices/csv/train\n",
      "validation: (291, 54) (291,)\n",
      "Writing to s3://sagemaker-eu-west-1-483308273948/house_prices/csv/validation\n",
      "Done writing to s3://sagemaker-eu-west-1-483308273948/house_prices/csv/validation\n"
     ]
    }
   ],
   "source": [
    "import io\n",
    "train_data_url = \"\"\n",
    "validation_data_url = \"\"\n",
    "def to_libsvm(f, labels, values):\n",
    "     f.write(bytes('\\n'.join(\n",
    "         ['{} {}'.format(label, ' '.join(['{}:{}'.format(i + 1, el) for i, el in enumerate(vec)])) for label, vec in\n",
    "          zip(labels, values)]), 'utf-8'))\n",
    "     return f\n",
    "\n",
    "def write_to_s3(fobj, bucket, key):\n",
    "    return boto3.Session().resource('s3').Bucket(bucket).Object(key).upload_fileobj(fobj)\n",
    "\n",
    "partitions = [('train', (train_data,train_label)), ('validation', (val_data,val_label))]\n",
    "for partition_name, partition in partitions:\n",
    "    print('{}: {} {}'.format(partition_name, partition[0].shape, partition[1].shape))\n",
    "    labels = partition[1].tolist()\n",
    "    vectors = partition[0].tolist()\n",
    "    f = io.BytesIO()\n",
    "    to_libsvm(f, labels, vectors)\n",
    "    f.seek(0)\n",
    "    key = \"{}/csv/{}\".format(prefix,partition_name)\n",
    "    url = 's3://{}/{}'.format(bucket, key)\n",
    "    print('Writing to {}'.format(url))\n",
    "    write_to_s3(f, bucket, key)\n",
    "    print('Done writing to {}'.format(url))\n",
    "    if (partition_name == \"train\"):\n",
    "        train_data_url = url\n",
    "    else:\n",
    "        validation_data_url = url\n",
    "\n",
    "output = 's3://{}/{}'.format(bucket, prefix+'/output')"
   ]
  },
  {
   "cell_type": "code",
   "execution_count": 19,
   "metadata": {},
   "outputs": [
    {
     "data": {
      "text/plain": [
       "'s3://sagemaker-eu-west-1-483308273948/house_prices/output'"
      ]
     },
     "execution_count": 19,
     "metadata": {},
     "output_type": "execute_result"
    }
   ],
   "source": [
    "output\n"
   ]
  },
  {
   "cell_type": "markdown",
   "metadata": {},
   "source": [
    "## Training the XGBoost model\n"
   ]
  },
  {
   "cell_type": "code",
   "execution_count": 7,
   "metadata": {},
   "outputs": [],
   "source": [
    "containers = {'us-west-2': '433757028032.dkr.ecr.us-west-2.amazonaws.com/xgboost:latest',\n",
    "              'us-east-1': '811284229777.dkr.ecr.us-east-1.amazonaws.com/xgboost:latest',\n",
    "              'us-east-2': '825641698319.dkr.ecr.us-east-2.amazonaws.com/xgboost:latest',\n",
    "              'eu-west-1': '685385470294.dkr.ecr.eu-west-1.amazonaws.com/xgboost:latest'}\n",
    "container = containers[boto3.Session().region_name]"
   ]
  },
  {
   "cell_type": "code",
   "execution_count": 8,
   "metadata": {},
   "outputs": [
    {
     "name": "stderr",
     "output_type": "stream",
     "text": [
      "INFO:sagemaker:Creating hyperparameter tuning job with name: xgboost-180614-1835\n"
     ]
    },
    {
     "name": "stdout",
     "output_type": "stream",
     "text": [
      "CPU times: user 40 ms, sys: 0 ns, total: 40 ms\n",
      "Wall time: 270 ms\n"
     ]
    }
   ],
   "source": [
    "%%time\n",
    "import boto3\n",
    "import sagemaker\n",
    "from sagemaker.tuner import HyperparameterTuner, IntegerParameter, CategoricalParameter, ContinuousParameter\n",
    "\n",
    "sess = sagemaker.Session()\n",
    "region = boto3.Session().region_name\n",
    "\n",
    "train = sagemaker.s3_input(s3_data=train_data_url,content_type='libsvm')\n",
    "validation = sagemaker.s3_input(s3_data=validation_data_url,content_type='libsvm')\n",
    "\n",
    "# Creating a new sagemaker job\n",
    "estimator = sagemaker.estimator.Estimator(containers[boto3.Session().region_name],\n",
    "                                       role, \n",
    "                                       train_instance_count=1, \n",
    "                                       train_instance_type='ml.c4.xlarge',\n",
    "                                       output_path=output,\n",
    "                                       sagemaker_session=sess)\n",
    "\n",
    "# Settings the job hyperparamaters\n",
    "estimator.set_hyperparameters(eval_metric='rmse',\n",
    "                           objective=\"reg:linear\",\n",
    "                           num_round=100)\n",
    "\n",
    "hyperparameter_ranges = {'eta': ContinuousParameter(0, 1), # The eta parameter shrinks the feature weights to make the boosting process more conservative.\n",
    "                         'alpha' : ContinuousParameter(0, 2), # L1 regularization term on weights. Increasing this value makes models more conservative.\n",
    "                         'min_child_weight' : ContinuousParameter(1, 10), # Minimum sum of instance weight (hessian) needed in a child. If the tree partition step results in a leaf node with the sum of instance weight less than min_child_weight, the building process gives up further partitioning.\n",
    "                         'max_depth' : IntegerParameter(1, 10)} # Maximum depth of a tree.\n",
    "\n",
    "objective_metric_name = 'validation:rmse'\n",
    "\n",
    "tuner = HyperparameterTuner(estimator,\n",
    "                            objective_metric_name,\n",
    "                            hyperparameter_ranges,\n",
    "                            objective_type='Minimize',\n",
    "                            max_jobs=9,\n",
    "                            max_parallel_jobs=3)\n",
    "tuner.fit({'train': train,'validation' : validation})\n"
   ]
  },
  {
   "cell_type": "markdown",
   "metadata": {},
   "source": [
    "## Set up hosting for the model\n",
    "Now that we've trained our model, we can deploy it behind an Amazon SageMaker real-time hosted endpoint.  This will allow out to make predictions (or inference) from the model dyanamically.\n",
    "\n",
    "_Note, Amazon SageMaker allows you the flexibility of importing models trained elsewhere, as well as the choice of not importing models if the target of model creation is AWS Lambda, AWS Greengrass, Amazon Redshift, Amazon Athena, or other deployment target._"
   ]
  },
  {
   "cell_type": "code",
   "execution_count": 10,
   "metadata": {},
   "outputs": [
    {
     "name": "stderr",
     "output_type": "stream",
     "text": [
      "INFO:sagemaker:Creating model with name: xgboost-2018-06-14-18-44-38-749\n"
     ]
    },
    {
     "name": "stdout",
     "output_type": "stream",
     "text": [
      "\u001b[31mArguments: train\u001b[0m\n",
      "\u001b[31m[2018-06-14:18:41:42:INFO] Running standalone xgboost training.\u001b[0m\n",
      "\u001b[31m[2018-06-14:18:41:42:INFO] Setting up HPO optimized metric to be : rmse\u001b[0m\n",
      "\u001b[31m[2018-06-14:18:41:42:INFO] File size need to be processed in the node: 0.58mb. Available memory size in the node: -80.51mb\u001b[0m\n",
      "\u001b[31m[2018-06-14:18:41:42:INFO] Insufficient memory available in the instance. Using external memory for libsvm input.                      Switch to larger instance with more RAM/distributed mode for better performance and lower cost.\u001b[0m\n",
      "\u001b[31m[18:41:42] S3DistributionType set as FullyReplicated\u001b[0m\n",
      "\u001b[31m[18:41:42] SparsePage::Writer Finished writing to /opt/ml/input/data/train/dtrain.r0-1.cache.row.page\u001b[0m\n",
      "\u001b[31m[18:41:42] SparsePageSource: Finished writing to /opt/ml/input/data/train/dtrain.r0-1.cache\u001b[0m\n",
      "\u001b[31m[18:41:42] 1161x55 matrix with 62694 entries loaded from /opt/ml/input/data/train#/opt/ml/input/data/train/dtrain.cache\u001b[0m\n",
      "\u001b[31m[2018-06-14:18:41:42:INFO] Insufficient memory available in the instance. Using external memory for libsvm input.                      Switch to larger instance with more RAM/distributed mode for better performance and lower cost.\u001b[0m\n",
      "\u001b[31m[18:41:42] S3DistributionType set as FullyReplicated\u001b[0m\n",
      "\u001b[31m[18:41:42] SparsePage::Writer Finished writing to /opt/ml/input/data/validation/dval.r0-1.cache.row.page\u001b[0m\n",
      "\u001b[31m[18:41:42] SparsePageSource: Finished writing to /opt/ml/input/data/validation/dval.r0-1.cache\u001b[0m\n",
      "\u001b[31m[18:41:42] 291x55 matrix with 15714 entries loaded from /opt/ml/input/data/validation#/opt/ml/input/data/validation/dval.cache\u001b[0m\n",
      "\u001b[31m[18:41:42] SparsePage::Writer Finished writing to /opt/ml/input/data/train/dtrain.r0-1.cache.col.page\u001b[0m\n",
      "\u001b[31m[18:41:42] src/tree/updater_prune.cc:74: tree pruning end, 1 roots, 0 extra nodes, 0 pruned nodes, max_depth=0\u001b[0m\n",
      "\u001b[31m[0]#011train-rmse:7.13691#011validation-rmse:7.1432\u001b[0m\n",
      "\u001b[31m[18:41:42] src/tree/updater_prune.cc:74: tree pruning end, 1 roots, 2 extra nodes, 0 pruned nodes, max_depth=1\u001b[0m\n",
      "\u001b[31m[1]#011train-rmse:4.42323#011validation-rmse:4.43185\u001b[0m\n",
      "\u001b[31m[18:41:42] src/tree/updater_prune.cc:74: tree pruning end, 1 roots, 2 extra nodes, 0 pruned nodes, max_depth=1\u001b[0m\n",
      "\u001b[31m[2]#011train-rmse:2.74683#011validation-rmse:2.7542\u001b[0m\n",
      "\u001b[31m[18:41:42] src/tree/updater_prune.cc:74: tree pruning end, 1 roots, 2 extra nodes, 0 pruned nodes, max_depth=1\u001b[0m\n",
      "\u001b[31m[3]#011train-rmse:1.71277#011validation-rmse:1.72123\u001b[0m\n",
      "\u001b[31m[18:41:42] src/tree/updater_prune.cc:74: tree pruning end, 1 roots, 4 extra nodes, 0 pruned nodes, max_depth=2\u001b[0m\n",
      "\u001b[31m[4]#011train-rmse:1.07697#011validation-rmse:1.08508\u001b[0m\n",
      "\u001b[31m[18:41:42] src/tree/updater_prune.cc:74: tree pruning end, 1 roots, 4 extra nodes, 0 pruned nodes, max_depth=2\u001b[0m\n",
      "\u001b[31m[5]#011train-rmse:0.688358#011validation-rmse:0.700553\u001b[0m\n",
      "\u001b[31m[18:41:42] src/tree/updater_prune.cc:74: tree pruning end, 1 roots, 12 extra nodes, 0 pruned nodes, max_depth=3\u001b[0m\n",
      "\u001b[31m[6]#011train-rmse:0.452305#011validation-rmse:0.468235\u001b[0m\n",
      "\u001b[31m[18:41:42] src/tree/updater_prune.cc:74: tree pruning end, 1 roots, 8 extra nodes, 0 pruned nodes, max_depth=3\u001b[0m\n",
      "\u001b[31m[7]#011train-rmse:0.312504#011validation-rmse:0.329914\u001b[0m\n",
      "\u001b[31m[18:41:42] src/tree/updater_prune.cc:74: tree pruning end, 1 roots, 14 extra nodes, 0 pruned nodes, max_depth=3\u001b[0m\n",
      "\u001b[31m[8]#011train-rmse:0.232351#011validation-rmse:0.252966\u001b[0m\n",
      "\u001b[31m[18:41:42] src/tree/updater_prune.cc:74: tree pruning end, 1 roots, 14 extra nodes, 0 pruned nodes, max_depth=3\u001b[0m\n",
      "\u001b[31m[9]#011train-rmse:0.188517#011validation-rmse:0.210801\u001b[0m\n",
      "\u001b[31m[18:41:42] src/tree/updater_prune.cc:74: tree pruning end, 1 roots, 14 extra nodes, 0 pruned nodes, max_depth=3\u001b[0m\n",
      "\u001b[31m[10]#011train-rmse:0.165518#011validation-rmse:0.191797\u001b[0m\n",
      "\u001b[31m[18:41:42] src/tree/updater_prune.cc:74: tree pruning end, 1 roots, 10 extra nodes, 0 pruned nodes, max_depth=3\u001b[0m\n",
      "\u001b[31m[11]#011train-rmse:0.154138#011validation-rmse:0.181606\u001b[0m\n",
      "\u001b[31m[18:41:42] src/tree/updater_prune.cc:74: tree pruning end, 1 roots, 12 extra nodes, 0 pruned nodes, max_depth=3\u001b[0m\n",
      "\u001b[31m[12]#011train-rmse:0.14741#011validation-rmse:0.175332\u001b[0m\n",
      "\u001b[31m[18:41:42] src/tree/updater_prune.cc:74: tree pruning end, 1 roots, 14 extra nodes, 0 pruned nodes, max_depth=3\u001b[0m\n",
      "\u001b[31m[13]#011train-rmse:0.141311#011validation-rmse:0.169763\u001b[0m\n",
      "\u001b[31m[18:41:42] src/tree/updater_prune.cc:74: tree pruning end, 1 roots, 12 extra nodes, 0 pruned nodes, max_depth=3\u001b[0m\n",
      "\u001b[31m[14]#011train-rmse:0.138242#011validation-rmse:0.166576\u001b[0m\n",
      "\u001b[31m[18:41:42] src/tree/updater_prune.cc:74: tree pruning end, 1 roots, 14 extra nodes, 0 pruned nodes, max_depth=3\u001b[0m\n",
      "\u001b[31m[15]#011train-rmse:0.135415#011validation-rmse:0.164762\u001b[0m\n",
      "\u001b[31m[18:41:42] src/tree/updater_prune.cc:74: tree pruning end, 1 roots, 14 extra nodes, 0 pruned nodes, max_depth=3\u001b[0m\n",
      "\u001b[31m[16]#011train-rmse:0.132962#011validation-rmse:0.164249\u001b[0m\n",
      "\u001b[31m[18:41:42] src/tree/updater_prune.cc:74: tree pruning end, 1 roots, 14 extra nodes, 0 pruned nodes, max_depth=3\u001b[0m\n",
      "\u001b[31m[17]#011train-rmse:0.130525#011validation-rmse:0.16297\u001b[0m\n",
      "\u001b[31m[18:41:42] src/tree/updater_prune.cc:74: tree pruning end, 1 roots, 14 extra nodes, 0 pruned nodes, max_depth=3\u001b[0m\n",
      "\u001b[31m[18]#011train-rmse:0.128579#011validation-rmse:0.163474\u001b[0m\n",
      "\u001b[31m[18:41:42] src/tree/updater_prune.cc:74: tree pruning end, 1 roots, 12 extra nodes, 0 pruned nodes, max_depth=3\u001b[0m\n",
      "\u001b[31m[19]#011train-rmse:0.126387#011validation-rmse:0.161318\u001b[0m\n",
      "\u001b[31m[18:41:42] src/tree/updater_prune.cc:74: tree pruning end, 1 roots, 12 extra nodes, 0 pruned nodes, max_depth=3\u001b[0m\n",
      "\u001b[31m[20]#011train-rmse:0.12472#011validation-rmse:0.161236\u001b[0m\n",
      "\u001b[31m[18:41:42] src/tree/updater_prune.cc:74: tree pruning end, 1 roots, 14 extra nodes, 0 pruned nodes, max_depth=3\u001b[0m\n",
      "\u001b[31m[21]#011train-rmse:0.122723#011validation-rmse:0.159226\u001b[0m\n",
      "\u001b[31m[18:41:42] src/tree/updater_prune.cc:74: tree pruning end, 1 roots, 14 extra nodes, 0 pruned nodes, max_depth=3\u001b[0m\n",
      "\u001b[31m[22]#011train-rmse:0.121686#011validation-rmse:0.158903\u001b[0m\n",
      "\u001b[31m[18:41:42] src/tree/updater_prune.cc:74: tree pruning end, 1 roots, 14 extra nodes, 0 pruned nodes, max_depth=3\u001b[0m\n",
      "\u001b[31m[23]#011train-rmse:0.120124#011validation-rmse:0.157429\u001b[0m\n",
      "\u001b[31m[18:41:42] src/tree/updater_prune.cc:74: tree pruning end, 1 roots, 14 extra nodes, 0 pruned nodes, max_depth=3\u001b[0m\n",
      "\u001b[31m[24]#011train-rmse:0.118854#011validation-rmse:0.155434\u001b[0m\n",
      "\u001b[31m[18:41:42] src/tree/updater_prune.cc:74: tree pruning end, 1 roots, 12 extra nodes, 0 pruned nodes, max_depth=3\u001b[0m\n",
      "\u001b[31m[25]#011train-rmse:0.117485#011validation-rmse:0.155143\u001b[0m\n",
      "\u001b[31m[18:41:42] src/tree/updater_prune.cc:74: tree pruning end, 1 roots, 14 extra nodes, 0 pruned nodes, max_depth=3\u001b[0m\n",
      "\u001b[31m[26]#011train-rmse:0.116186#011validation-rmse:0.154999\u001b[0m\n",
      "\u001b[31m[18:41:42] src/tree/updater_prune.cc:74: tree pruning end, 1 roots, 14 extra nodes, 0 pruned nodes, max_depth=3\u001b[0m\n",
      "\u001b[31m[27]#011train-rmse:0.115156#011validation-rmse:0.155096\u001b[0m\n",
      "\u001b[31m[18:41:42] src/tree/updater_prune.cc:74: tree pruning end, 1 roots, 14 extra nodes, 0 pruned nodes, max_depth=3\u001b[0m\n",
      "\u001b[31m[28]#011train-rmse:0.113962#011validation-rmse:0.154587\u001b[0m\n",
      "\u001b[31m[18:41:42] src/tree/updater_prune.cc:74: tree pruning end, 1 roots, 12 extra nodes, 0 pruned nodes, max_depth=3\u001b[0m\n",
      "\u001b[31m[29]#011train-rmse:0.11309#011validation-rmse:0.153753\u001b[0m\n",
      "\u001b[31m[18:41:42] src/tree/updater_prune.cc:74: tree pruning end, 1 roots, 12 extra nodes, 0 pruned nodes, max_depth=3\u001b[0m\n",
      "\u001b[31m[30]#011train-rmse:0.112244#011validation-rmse:0.153369\u001b[0m\n",
      "\u001b[31m[18:41:42] src/tree/updater_prune.cc:74: tree pruning end, 1 roots, 14 extra nodes, 0 pruned nodes, max_depth=3\u001b[0m\n",
      "\u001b[31m[31]#011train-rmse:0.111106#011validation-rmse:0.152805\u001b[0m\n",
      "\u001b[31m[18:41:42] src/tree/updater_prune.cc:74: tree pruning end, 1 roots, 14 extra nodes, 0 pruned nodes, max_depth=3\u001b[0m\n",
      "\u001b[31m[32]#011train-rmse:0.110281#011validation-rmse:0.15239\u001b[0m\n",
      "\u001b[31m[18:41:42] src/tree/updater_prune.cc:74: tree pruning end, 1 roots, 14 extra nodes, 0 pruned nodes, max_depth=3\u001b[0m\n",
      "\u001b[31m[33]#011train-rmse:0.109347#011validation-rmse:0.152012\u001b[0m\n",
      "\u001b[31m[18:41:42] src/tree/updater_prune.cc:74: tree pruning end, 1 roots, 14 extra nodes, 0 pruned nodes, max_depth=3\u001b[0m\n",
      "\u001b[31m[34]#011train-rmse:0.108693#011validation-rmse:0.152351\u001b[0m\n",
      "\u001b[31m[18:41:42] src/tree/updater_prune.cc:74: tree pruning end, 1 roots, 14 extra nodes, 0 pruned nodes, max_depth=3\u001b[0m\n",
      "\u001b[31m[35]#011train-rmse:0.108168#011validation-rmse:0.152455\u001b[0m\n",
      "\u001b[31m[18:41:42] src/tree/updater_prune.cc:74: tree pruning end, 1 roots, 12 extra nodes, 0 pruned nodes, max_depth=3\u001b[0m\n",
      "\u001b[31m[36]#011train-rmse:0.107476#011validation-rmse:0.151822\u001b[0m\n",
      "\u001b[31m[18:41:42] src/tree/updater_prune.cc:74: tree pruning end, 1 roots, 14 extra nodes, 0 pruned nodes, max_depth=3\u001b[0m\n",
      "\u001b[31m[37]#011train-rmse:0.106714#011validation-rmse:0.151145\u001b[0m\n",
      "\u001b[31m[18:41:42] src/tree/updater_prune.cc:74: tree pruning end, 1 roots, 12 extra nodes, 0 pruned nodes, max_depth=3\u001b[0m\n",
      "\u001b[31m[38]#011train-rmse:0.106091#011validation-rmse:0.150545\u001b[0m\n",
      "\u001b[31m[18:41:42] src/tree/updater_prune.cc:74: tree pruning end, 1 roots, 12 extra nodes, 0 pruned nodes, max_depth=3\u001b[0m\n",
      "\u001b[31m[39]#011train-rmse:0.105505#011validation-rmse:0.150419\u001b[0m\n",
      "\u001b[31m[18:41:42] src/tree/updater_prune.cc:74: tree pruning end, 1 roots, 14 extra nodes, 0 pruned nodes, max_depth=3\u001b[0m\n",
      "\u001b[31m[40]#011train-rmse:0.10487#011validation-rmse:0.149977\u001b[0m\n",
      "\u001b[31m[18:41:42] src/tree/updater_prune.cc:74: tree pruning end, 1 roots, 12 extra nodes, 0 pruned nodes, max_depth=3\u001b[0m\n",
      "\u001b[31m[41]#011train-rmse:0.104411#011validation-rmse:0.149914\u001b[0m\n",
      "\u001b[31m[18:41:42] src/tree/updater_prune.cc:74: tree pruning end, 1 roots, 14 extra nodes, 0 pruned nodes, max_depth=3\u001b[0m\n",
      "\u001b[31m[42]#011train-rmse:0.103758#011validation-rmse:0.149638\u001b[0m\n",
      "\u001b[31m[18:41:42] src/tree/updater_prune.cc:74: tree pruning end, 1 roots, 14 extra nodes, 0 pruned nodes, max_depth=3\u001b[0m\n",
      "\u001b[31m[43]#011train-rmse:0.103153#011validation-rmse:0.14966\u001b[0m\n",
      "\u001b[31m[18:41:42] src/tree/updater_prune.cc:74: tree pruning end, 1 roots, 12 extra nodes, 0 pruned nodes, max_depth=3\u001b[0m\n",
      "\u001b[31m[44]#011train-rmse:0.102895#011validation-rmse:0.14967\u001b[0m\n",
      "\u001b[31m[18:41:42] src/tree/updater_prune.cc:74: tree pruning end, 1 roots, 14 extra nodes, 0 pruned nodes, max_depth=3\u001b[0m\n",
      "\u001b[31m[45]#011train-rmse:0.102188#011validation-rmse:0.149842\u001b[0m\n",
      "\u001b[31m[18:41:42] src/tree/updater_prune.cc:74: tree pruning end, 1 roots, 14 extra nodes, 0 pruned nodes, max_depth=3\u001b[0m\n",
      "\u001b[31m[46]#011train-rmse:0.101736#011validation-rmse:0.149653\u001b[0m\n",
      "\u001b[31m[18:41:42] src/tree/updater_prune.cc:74: tree pruning end, 1 roots, 12 extra nodes, 0 pruned nodes, max_depth=3\u001b[0m\n",
      "\u001b[31m[47]#011train-rmse:0.101372#011validation-rmse:0.149407\u001b[0m\n",
      "\u001b[31m[18:41:42] src/tree/updater_prune.cc:74: tree pruning end, 1 roots, 14 extra nodes, 0 pruned nodes, max_depth=3\u001b[0m\n",
      "\u001b[31m[48]#011train-rmse:0.100796#011validation-rmse:0.149297\u001b[0m\n",
      "\u001b[31m[18:41:42] src/tree/updater_prune.cc:74: tree pruning end, 1 roots, 14 extra nodes, 0 pruned nodes, max_depth=3\u001b[0m\n",
      "\u001b[31m[49]#011train-rmse:0.100498#011validation-rmse:0.149138\u001b[0m\n",
      "\u001b[31m[18:41:42] src/tree/updater_prune.cc:74: tree pruning end, 1 roots, 14 extra nodes, 0 pruned nodes, max_depth=3\u001b[0m\n",
      "\u001b[31m[50]#011train-rmse:0.099989#011validation-rmse:0.149184\u001b[0m\n",
      "\u001b[31m[18:41:42] src/tree/updater_prune.cc:74: tree pruning end, 1 roots, 14 extra nodes, 0 pruned nodes, max_depth=3\u001b[0m\n",
      "\u001b[31m[51]#011train-rmse:0.099614#011validation-rmse:0.14944\u001b[0m\n",
      "\u001b[31m[18:41:42] src/tree/updater_prune.cc:74: tree pruning end, 1 roots, 14 extra nodes, 0 pruned nodes, max_depth=3\u001b[0m\n",
      "\u001b[31m[52]#011train-rmse:0.099288#011validation-rmse:0.149514\u001b[0m\n",
      "\u001b[31m[18:41:42] src/tree/updater_prune.cc:74: tree pruning end, 1 roots, 14 extra nodes, 0 pruned nodes, max_depth=3\u001b[0m\n",
      "\u001b[31m[53]#011train-rmse:0.098861#011validation-rmse:0.149239\u001b[0m\n",
      "\u001b[31m[18:41:42] src/tree/updater_prune.cc:74: tree pruning end, 1 roots, 14 extra nodes, 0 pruned nodes, max_depth=3\u001b[0m\n",
      "\u001b[31m[54]#011train-rmse:0.098416#011validation-rmse:0.149071\u001b[0m\n",
      "\u001b[31m[18:41:42] src/tree/updater_prune.cc:74: tree pruning end, 1 roots, 12 extra nodes, 0 pruned nodes, max_depth=3\u001b[0m\n",
      "\u001b[31m[55]#011train-rmse:0.097929#011validation-rmse:0.149077\u001b[0m\n",
      "\u001b[31m[18:41:42] src/tree/updater_prune.cc:74: tree pruning end, 1 roots, 12 extra nodes, 0 pruned nodes, max_depth=3\u001b[0m\n",
      "\u001b[31m[56]#011train-rmse:0.097645#011validation-rmse:0.14888\u001b[0m\n",
      "\u001b[31m[18:41:42] src/tree/updater_prune.cc:74: tree pruning end, 1 roots, 14 extra nodes, 0 pruned nodes, max_depth=3\u001b[0m\n",
      "\u001b[31m[57]#011train-rmse:0.097293#011validation-rmse:0.148704\u001b[0m\n",
      "\u001b[31m[18:41:42] src/tree/updater_prune.cc:74: tree pruning end, 1 roots, 14 extra nodes, 0 pruned nodes, max_depth=3\u001b[0m\n",
      "\u001b[31m[58]#011train-rmse:0.096972#011validation-rmse:0.149064\u001b[0m\n",
      "\u001b[31m[18:41:42] src/tree/updater_prune.cc:74: tree pruning end, 1 roots, 14 extra nodes, 0 pruned nodes, max_depth=3\u001b[0m\n",
      "\u001b[31m[59]#011train-rmse:0.096705#011validation-rmse:0.148905\u001b[0m\n",
      "\u001b[31m[18:41:42] src/tree/updater_prune.cc:74: tree pruning end, 1 roots, 12 extra nodes, 0 pruned nodes, max_depth=3\u001b[0m\n",
      "\u001b[31m[60]#011train-rmse:0.09642#011validation-rmse:0.148933\u001b[0m\n",
      "\u001b[31m[18:41:42] src/tree/updater_prune.cc:74: tree pruning end, 1 roots, 14 extra nodes, 0 pruned nodes, max_depth=3\u001b[0m\n",
      "\u001b[31m[61]#011train-rmse:0.09596#011validation-rmse:0.148746\u001b[0m\n",
      "\u001b[31m[18:41:42] src/tree/updater_prune.cc:74: tree pruning end, 1 roots, 12 extra nodes, 0 pruned nodes, max_depth=3\u001b[0m\n",
      "\u001b[31m[62]#011train-rmse:0.095715#011validation-rmse:0.148819\u001b[0m\n",
      "\u001b[31m[18:41:42] src/tree/updater_prune.cc:74: tree pruning end, 1 roots, 14 extra nodes, 0 pruned nodes, max_depth=3\u001b[0m\n",
      "\u001b[31m[63]#011train-rmse:0.095457#011validation-rmse:0.14876\u001b[0m\n",
      "\u001b[31m[18:41:42] src/tree/updater_prune.cc:74: tree pruning end, 1 roots, 14 extra nodes, 0 pruned nodes, max_depth=3\u001b[0m\n",
      "\u001b[31m[64]#011train-rmse:0.095099#011validation-rmse:0.148907\u001b[0m\n",
      "\u001b[31m[18:41:42] src/tree/updater_prune.cc:74: tree pruning end, 1 roots, 12 extra nodes, 0 pruned nodes, max_depth=3\u001b[0m\n",
      "\u001b[31m[65]#011train-rmse:0.094835#011validation-rmse:0.148742\u001b[0m\n",
      "\u001b[31m[18:41:42] src/tree/updater_prune.cc:74: tree pruning end, 1 roots, 14 extra nodes, 0 pruned nodes, max_depth=3\u001b[0m\n",
      "\u001b[31m[66]#011train-rmse:0.094531#011validation-rmse:0.148495\u001b[0m\n",
      "\u001b[31m[18:41:42] src/tree/updater_prune.cc:74: tree pruning end, 1 roots, 14 extra nodes, 0 pruned nodes, max_depth=3\u001b[0m\n",
      "\u001b[31m[67]#011train-rmse:0.094222#011validation-rmse:0.148325\u001b[0m\n",
      "\u001b[31m[18:41:42] src/tree/updater_prune.cc:74: tree pruning end, 1 roots, 14 extra nodes, 0 pruned nodes, max_depth=3\u001b[0m\n",
      "\u001b[31m[68]#011train-rmse:0.094056#011validation-rmse:0.148412\u001b[0m\n",
      "\u001b[31m[18:41:42] src/tree/updater_prune.cc:74: tree pruning end, 1 roots, 14 extra nodes, 0 pruned nodes, max_depth=3\u001b[0m\n",
      "\u001b[31m[69]#011train-rmse:0.093759#011validation-rmse:0.148193\u001b[0m\n",
      "\u001b[31m[18:41:42] src/tree/updater_prune.cc:74: tree pruning end, 1 roots, 12 extra nodes, 0 pruned nodes, max_depth=3\u001b[0m\n",
      "\u001b[31m[70]#011train-rmse:0.093593#011validation-rmse:0.148105\u001b[0m\n",
      "\u001b[31m[18:41:42] src/tree/updater_prune.cc:74: tree pruning end, 1 roots, 12 extra nodes, 0 pruned nodes, max_depth=3\u001b[0m\n",
      "\u001b[31m[71]#011train-rmse:0.093366#011validation-rmse:0.14823\u001b[0m\n",
      "\u001b[31m[18:41:42] src/tree/updater_prune.cc:74: tree pruning end, 1 roots, 14 extra nodes, 0 pruned nodes, max_depth=3\u001b[0m\n",
      "\u001b[31m[72]#011train-rmse:0.093091#011validation-rmse:0.148168\u001b[0m\n",
      "\u001b[31m[18:41:42] src/tree/updater_prune.cc:74: tree pruning end, 1 roots, 12 extra nodes, 0 pruned nodes, max_depth=3\u001b[0m\n",
      "\u001b[31m[73]#011train-rmse:0.092896#011validation-rmse:0.148147\u001b[0m\n",
      "\u001b[31m[18:41:42] src/tree/updater_prune.cc:74: tree pruning end, 1 roots, 0 extra nodes, 0 pruned nodes, max_depth=0\u001b[0m\n",
      "\u001b[31m[74]#011train-rmse:0.092896#011validation-rmse:0.148147\u001b[0m\n",
      "\u001b[31m[18:41:42] src/tree/updater_prune.cc:74: tree pruning end, 1 roots, 0 extra nodes, 0 pruned nodes, max_depth=0\u001b[0m\n",
      "\u001b[31m[75]#011train-rmse:0.092896#011validation-rmse:0.148147\u001b[0m\n",
      "\u001b[31m[18:41:42] src/tree/updater_prune.cc:74: tree pruning end, 1 roots, 0 extra nodes, 0 pruned nodes, max_depth=0\u001b[0m\n",
      "\u001b[31m[76]#011train-rmse:0.092896#011validation-rmse:0.148147\u001b[0m\n",
      "\u001b[31m[18:41:42] src/tree/updater_prune.cc:74: tree pruning end, 1 roots, 0 extra nodes, 0 pruned nodes, max_depth=0\u001b[0m\n",
      "\u001b[31m[77]#011train-rmse:0.092896#011validation-rmse:0.148147\u001b[0m\n",
      "\u001b[31m[18:41:42] src/tree/updater_prune.cc:74: tree pruning end, 1 roots, 0 extra nodes, 0 pruned nodes, max_depth=0\u001b[0m\n",
      "\u001b[31m[78]#011train-rmse:0.092896#011validation-rmse:0.148147\u001b[0m\n",
      "\u001b[31m[18:41:42] src/tree/updater_prune.cc:74: tree pruning end, 1 roots, 0 extra nodes, 0 pruned nodes, max_depth=0\u001b[0m\n",
      "\u001b[31m[79]#011train-rmse:0.092896#011validation-rmse:0.148147\u001b[0m\n",
      "\u001b[31m[18:41:42] src/tree/updater_prune.cc:74: tree pruning end, 1 roots, 0 extra nodes, 0 pruned nodes, max_depth=0\u001b[0m\n",
      "\u001b[31m[80]#011train-rmse:0.092896#011validation-rmse:0.148147\u001b[0m\n",
      "\u001b[31m[18:41:42] src/tree/updater_prune.cc:74: tree pruning end, 1 roots, 0 extra nodes, 0 pruned nodes, max_depth=0\u001b[0m\n",
      "\u001b[31m[81]#011train-rmse:0.092896#011validation-rmse:0.148147\u001b[0m\n",
      "\u001b[31m[18:41:42] src/tree/updater_prune.cc:74: tree pruning end, 1 roots, 0 extra nodes, 0 pruned nodes, max_depth=0\u001b[0m\n",
      "\u001b[31m[82]#011train-rmse:0.092896#011validation-rmse:0.148147\u001b[0m\n",
      "\u001b[31m[18:41:42] src/tree/updater_prune.cc:74: tree pruning end, 1 roots, 0 extra nodes, 0 pruned nodes, max_depth=0\u001b[0m\n",
      "\u001b[31m[83]#011train-rmse:0.092896#011validation-rmse:0.148147\u001b[0m\n",
      "\u001b[31m[18:41:42] src/tree/updater_prune.cc:74: tree pruning end, 1 roots, 0 extra nodes, 0 pruned nodes, max_depth=0\u001b[0m\n",
      "\u001b[31m[84]#011train-rmse:0.092896#011validation-rmse:0.148147\u001b[0m\n",
      "\u001b[31m[18:41:42] src/tree/updater_prune.cc:74: tree pruning end, 1 roots, 0 extra nodes, 0 pruned nodes, max_depth=0\u001b[0m\n",
      "\u001b[31m[85]#011train-rmse:0.092896#011validation-rmse:0.148147\u001b[0m\n",
      "\u001b[31m[18:41:42] src/tree/updater_prune.cc:74: tree pruning end, 1 roots, 0 extra nodes, 0 pruned nodes, max_depth=0\u001b[0m\n",
      "\u001b[31m[86]#011train-rmse:0.092896#011validation-rmse:0.148147\u001b[0m\n",
      "\u001b[31m[18:41:42] src/tree/updater_prune.cc:74: tree pruning end, 1 roots, 0 extra nodes, 0 pruned nodes, max_depth=0\u001b[0m\n",
      "\u001b[31m[87]#011train-rmse:0.092896#011validation-rmse:0.148147\u001b[0m\n",
      "\u001b[31m[18:41:42] src/tree/updater_prune.cc:74: tree pruning end, 1 roots, 0 extra nodes, 0 pruned nodes, max_depth=0\u001b[0m\n",
      "\u001b[31m[88]#011train-rmse:0.092896#011validation-rmse:0.148147\u001b[0m\n",
      "\u001b[31m[18:41:42] src/tree/updater_prune.cc:74: tree pruning end, 1 roots, 0 extra nodes, 0 pruned nodes, max_depth=0\u001b[0m\n",
      "\u001b[31m[89]#011train-rmse:0.092896#011validation-rmse:0.148147\u001b[0m\n",
      "\u001b[31m[18:41:42] src/tree/updater_prune.cc:74: tree pruning end, 1 roots, 0 extra nodes, 0 pruned nodes, max_depth=0\u001b[0m\n",
      "\u001b[31m[90]#011train-rmse:0.092896#011validation-rmse:0.148147\u001b[0m\n",
      "\u001b[31m[18:41:42] src/tree/updater_prune.cc:74: tree pruning end, 1 roots, 0 extra nodes, 0 pruned nodes, max_depth=0\u001b[0m\n",
      "\u001b[31m[91]#011train-rmse:0.092896#011validation-rmse:0.148147\u001b[0m\n",
      "\u001b[31m[18:41:42] src/tree/updater_prune.cc:74: tree pruning end, 1 roots, 0 extra nodes, 0 pruned nodes, max_depth=0\u001b[0m\n",
      "\u001b[31m[92]#011train-rmse:0.092896#011validation-rmse:0.148147\u001b[0m\n",
      "\u001b[31m[18:41:42] src/tree/updater_prune.cc:74: tree pruning end, 1 roots, 0 extra nodes, 0 pruned nodes, max_depth=0\u001b[0m\n",
      "\u001b[31m[93]#011train-rmse:0.092896#011validation-rmse:0.148147\u001b[0m\n",
      "\u001b[31m[18:41:42] src/tree/updater_prune.cc:74: tree pruning end, 1 roots, 0 extra nodes, 0 pruned nodes, max_depth=0\u001b[0m\n",
      "\u001b[31m[94]#011train-rmse:0.092896#011validation-rmse:0.148147\u001b[0m\n",
      "\u001b[31m[18:41:42] src/tree/updater_prune.cc:74: tree pruning end, 1 roots, 0 extra nodes, 0 pruned nodes, max_depth=0\u001b[0m\n",
      "\u001b[31m[95]#011train-rmse:0.092896#011validation-rmse:0.148147\u001b[0m\n",
      "\u001b[31m[18:41:42] src/tree/updater_prune.cc:74: tree pruning end, 1 roots, 0 extra nodes, 0 pruned nodes, max_depth=0\u001b[0m\n",
      "\u001b[31m[96]#011train-rmse:0.092896#011validation-rmse:0.148147\u001b[0m\n",
      "\u001b[31m[18:41:42] src/tree/updater_prune.cc:74: tree pruning end, 1 roots, 0 extra nodes, 0 pruned nodes, max_depth=0\u001b[0m\n",
      "\u001b[31m[97]#011train-rmse:0.092896#011validation-rmse:0.148147\u001b[0m\n",
      "\u001b[31m[18:41:42] src/tree/updater_prune.cc:74: tree pruning end, 1 roots, 0 extra nodes, 0 pruned nodes, max_depth=0\u001b[0m\n",
      "\u001b[31m[98]#011train-rmse:0.092896#011validation-rmse:0.148147\u001b[0m\n",
      "\u001b[31m[18:41:42] src/tree/updater_prune.cc:74: tree pruning end, 1 roots, 0 extra nodes, 0 pruned nodes, max_depth=0\u001b[0m\n",
      "\u001b[31m[99]#011train-rmse:0.092896#011validation-rmse:0.148147\u001b[0m\n",
      "===== Job Complete =====\n",
      "Billable seconds: 82\n"
     ]
    },
    {
     "name": "stderr",
     "output_type": "stream",
     "text": [
      "INFO:sagemaker:Creating endpoint with name xgboost-180614-1835-004-9859f1c0\n"
     ]
    },
    {
     "name": "stdout",
     "output_type": "stream",
     "text": [
      "--------------------------------------------------------------!"
     ]
    }
   ],
   "source": [
    "xgboost_predictor = tuner.deploy(initial_instance_count=1,\n",
    "                                 instance_type='ml.m4.xlarge')"
   ]
  },
  {
   "cell_type": "markdown",
   "metadata": {},
   "source": [
    "# Using SageMaker Endpoint"
   ]
  },
  {
   "cell_type": "code",
   "execution_count": 11,
   "metadata": {},
   "outputs": [],
   "source": [
    "from sagemaker.predictor import json_serializer, json_deserializer\n",
    "\n",
    "xgboost_predictor.content_type = 'text/csv'\n",
    "xgboost_predictor.serializer = json_serializer\n",
    "xgboost_predictor.deserializer = json_deserializer"
   ]
  },
  {
   "cell_type": "code",
   "execution_count": 13,
   "metadata": {},
   "outputs": [
    {
     "name": "stdout",
     "output_type": "stream",
     "text": [
      "Data: \n",
      "[1211.0, 50.0, 3.0, 152.0, 12134.0, 1.0, 0.0, 0.0, 0.0, 4.0, 1.0, 8.0, 0.0, 0.0, 8.0, 7.0, 1988.0, 2005.0, 1.0, 1.0, 2.0, 0.0, 2.0, 4.0, 5.0, 2.0, 3.0, 2.0, 5.0, 0.0, 559.0, 1.0, 2.0, 1.0, 4.0, 0.0, 3.0, 8.0, 6.0, 0.0, 5.0, 2.0, 492.0, 4.0, 4.0, 2.0, 325.0, 0.0, 8.0, 4.0, 27.0, 2.0, 2010.5, 12.0]\n",
      "\n",
      "Predicted price: $173675\n",
      "Real price: $164000\n"
     ]
    }
   ],
   "source": [
    "from math import exp\n",
    "item = 44\n",
    "print(\"Data: \\n\" + str(val_data[item].tolist()) + \"\\n\")\n",
    "print(\"Predicted price: $\" + str(round(exp(xgboost_predictor.predict(val_data[item].tolist())))))\n",
    "print(\"Real price: $\" + str(round(exp(val_label[item]))))"
   ]
  },
  {
   "cell_type": "markdown",
   "metadata": {},
   "source": [
    "# Predict on new data"
   ]
  },
  {
   "cell_type": "code",
   "execution_count": 14,
   "metadata": {},
   "outputs": [
    {
     "data": {
      "text/plain": [
       "1459"
      ]
     },
     "execution_count": 14,
     "metadata": {},
     "output_type": "execute_result"
    }
   ],
   "source": [
    "test = pd.read_csv('data/test.csv')\n",
    "len(test)"
   ]
  },
  {
   "cell_type": "code",
   "execution_count": 15,
   "metadata": {},
   "outputs": [],
   "source": [
    "prices = []\n",
    "for item in test.values:\n",
    "    data = {}\n",
    "    for column in test.keys():\n",
    "        data[column] = item[test.columns.get_loc(column)]\n",
    "    data['Price'] = exp(xgboost_predictor.predict(item.tolist()))\n",
    "    prices.append(data)"
   ]
  },
  {
   "cell_type": "code",
   "execution_count": 16,
   "metadata": {},
   "outputs": [],
   "source": [
    "df = pd.DataFrame(prices)"
   ]
  },
  {
   "cell_type": "code",
   "execution_count": 18,
   "metadata": {},
   "outputs": [
    {
     "data": {
      "image/png": "[encoded data removed]",
      "text/plain": [
       "<matplotlib.figure.Figure at 0x7f770e676e80>"
      ]
     },
     "metadata": {},
     "output_type": "display_data"
    }
   ],
   "source": [
    "import matplotlib.pyplot as plt\n",
    "df.plot.scatter(x='LotArea', y='Price')\n",
    "plt.show()"
   ]
  },
  {
   "cell_type": "markdown",
   "metadata": {},
   "source": [
    "# Delete the Endpoint"
   ]
  },
  {
   "cell_type": "code",
   "execution_count": null,
   "metadata": {},
   "outputs": [],
   "source": [
    "import sagemaker\n",
    "\n",
    "sagemaker.Session().delete_endpoint(xgboost_predictor.endpoint)"
   ]
  },
  {
   "cell_type": "code",
   "execution_count": null,
   "metadata": {},
   "outputs": [],
   "source": [
    "values = {}\n",
    "for i,item in enumerate(val_data):\n",
    "    values[i] = abs(xgboost_predictor.predict(val_data[i].tolist()) - val_label[i])\n",
    "    \n",
    "import operator\n",
    "sorted_values = sorted(values.items(), key=operator.itemgetter(1))\n",
    "\n",
    "print(sorted_values)"
   ]
  },
  {
   "cell_type": "code",
   "execution_count": 54,
   "metadata": {},
   "outputs": [
    {
     "name": "stdout",
     "output_type": "stream",
     "text": [
      "download: s3://sagemaker-eu-west-1-483308273948/house_prices/output/xgboost-180614-1835-004-9859f1c0/output/model.tar.gz to ./model.tar.gz\n"
     ]
    }
   ],
   "source": [
    "!aws s3 cp s3://sagemaker-eu-west-1-483308273948/house_prices/output/xgboost-180614-1835-004-9859f1c0/output/model.tar.gz ./"
   ]
  },
  {
   "cell_type": "code",
   "execution_count": 55,
   "metadata": {},
   "outputs": [
    {
     "name": "stdout",
     "output_type": "stream",
     "text": [
      "xgboost-model\r\n"
     ]
    }
   ],
   "source": [
    "!tar xzvf model.tar.gz"
   ]
  },
  {
   "cell_type": "code",
   "execution_count": 56,
   "metadata": {},
   "outputs": [
    {
     "name": "stdout",
     "output_type": "stream",
     "text": [
      "Requirement already satisfied: xgboost in /home/ec2-user/anaconda3/envs/mxnet_p36/lib/python3.6/site-packages\n",
      "Requirement already satisfied: scipy in /home/ec2-user/anaconda3/envs/mxnet_p36/lib/python3.6/site-packages (from xgboost)\n",
      "Requirement already satisfied: numpy in /home/ec2-user/anaconda3/envs/mxnet_p36/lib/python3.6/site-packages (from xgboost)\n",
      "\u001b[33mYou are using pip version 9.0.1, however version 10.0.1 is available.\n",
      "You should consider upgrading via the 'pip install --upgrade pip' command.\u001b[0m\n"
     ]
    }
   ],
   "source": [
    "!pip install xgboost"
   ]
  },
  {
   "cell_type": "code",
   "execution_count": 57,
   "metadata": {},
   "outputs": [],
   "source": [
    "import pickle as pkl\n",
    "import xgboost as xgb\n",
    "model = pkl.load(open('xgboost-model','rb' ))"
   ]
  },
  {
   "cell_type": "code",
   "execution_count": 64,
   "metadata": {},
   "outputs": [],
   "source": [
    "data = xgb.DMatrix(val_data[1].tolist())"
   ]
  },
  {
   "cell_type": "code",
   "execution_count": 68,
   "metadata": {},
   "outputs": [
    {
     "data": {
      "text/plain": [
       "array([1.16800000e+03, 7.00000000e+01, 3.00000000e+00, 1.20000000e+02,\n",
       "       1.37280000e+04, 1.00000000e+00, 3.00000000e+00, 3.00000000e+00,\n",
       "       0.00000000e+00, 0.00000000e+00, 0.00000000e+00, 7.00000000e+00,\n",
       "       0.00000000e+00, 5.00000000e+00, 6.00000000e+00, 7.00000000e+00,\n",
       "       1.93500000e+03, 1.98600000e+03, 3.00000000e+00, 1.00000000e+00,\n",
       "       2.00000000e+00, 0.00000000e+00, 3.00000000e+00, 4.00000000e+00,\n",
       "       1.00000000e+00, 3.00000000e+00, 3.00000000e+00, 4.00000000e+00,\n",
       "       5.00000000e+00, 0.00000000e+00, 1.12700000e+03, 1.00000000e+00,\n",
       "       0.00000000e+00, 1.00000000e+00, 4.00000000e+00, 0.00000000e+00,\n",
       "       2.00000000e+00, 7.00000000e+00, 6.00000000e+00, 2.00000000e+00,\n",
       "       4.00000000e+00, 2.00000000e+00, 5.40000000e+02, 4.00000000e+00,\n",
       "       4.00000000e+00, 2.00000000e+00, 0.00000000e+00, 0.00000000e+00,\n",
       "       8.00000000e+00, 4.00000000e+00, 2.30000000e+01, 2.00000000e+00,\n",
       "       2.00858333e+03, 9.00000000e+01])"
      ]
     },
     "execution_count": 68,
     "metadata": {},
     "output_type": "execute_result"
    }
   ],
   "source": [
    "val_data[1]"
   ]
  },
  {
   "cell_type": "code",
   "execution_count": 59,
   "metadata": {},
   "outputs": [
    {
     "data": {
      "text/plain": [
       "11.7294397354"
      ]
     },
     "execution_count": 59,
     "metadata": {},
     "output_type": "execute_result"
    }
   ],
   "source": [
    "xgboost_predictor.predict(val_data[0].tolist())"
   ]
  },
  {
   "cell_type": "code",
   "execution_count": 65,
   "metadata": {},
   "outputs": [
    {
     "ename": "ValueError",
     "evalue": "feature_names mismatch: ['f0', 'f1', 'f2', 'f3', 'f4', 'f5', 'f6', 'f7', 'f8', 'f9', 'f10', 'f11', 'f12', 'f13', 'f14', 'f15', 'f16', 'f17', 'f18', 'f19', 'f20', 'f21', 'f22', 'f23', 'f24', 'f25', 'f26', 'f27', 'f28', 'f29', 'f30', 'f31', 'f32', 'f33', 'f34', 'f35', 'f36', 'f37', 'f38', 'f39', 'f40', 'f41', 'f42', 'f43', 'f44', 'f45', 'f46', 'f47', 'f48', 'f49', 'f50', 'f51', 'f52', 'f53', 'f54'] ['f0', 'f1', 'f2', 'f3', 'f4', 'f5', 'f6', 'f7', 'f8', 'f9', 'f10', 'f11', 'f12', 'f13', 'f14', 'f15', 'f16', 'f17', 'f18', 'f19', 'f20', 'f21', 'f22', 'f23', 'f24', 'f25', 'f26', 'f27', 'f28', 'f29', 'f30', 'f31', 'f32', 'f33', 'f34', 'f35', 'f36', 'f37', 'f38', 'f39', 'f40', 'f41', 'f42', 'f43', 'f44', 'f45', 'f46', 'f47', 'f48', 'f49', 'f50', 'f51', 'f52', 'f53']\nexpected f54 in input data",
     "output_type": "error",
     "traceback": [
      "\u001b[0;31m---------------------------------------------------------------------------\u001b[0m",
      "\u001b[0;31mValueError\u001b[0m                                Traceback (most recent call last)",
      "\u001b[0;32m<ipython-input-65-c8644be457c1>\u001b[0m in \u001b[0;36m<module>\u001b[0;34m()\u001b[0m\n\u001b[0;32m----> 1\u001b[0;31m \u001b[0mmodel\u001b[0m\u001b[0;34m.\u001b[0m\u001b[0mpredict\u001b[0m\u001b[0;34m(\u001b[0m\u001b[0mdata\u001b[0m\u001b[0;34m)\u001b[0m\u001b[0;34m\u001b[0m\u001b[0m\n\u001b[0m",
      "\u001b[0;32m~/anaconda3/envs/mxnet_p36/lib/python3.6/site-packages/xgboost/core.py\u001b[0m in \u001b[0;36mpredict\u001b[0;34m(self, data, output_margin, ntree_limit, pred_leaf, pred_contribs, approx_contribs, pred_interactions, validate_features)\u001b[0m\n\u001b[1;32m   1053\u001b[0m \u001b[0;34m\u001b[0m\u001b[0m\n\u001b[1;32m   1054\u001b[0m         \u001b[0;32mif\u001b[0m \u001b[0mvalidate_features\u001b[0m\u001b[0;34m:\u001b[0m\u001b[0;34m\u001b[0m\u001b[0m\n\u001b[0;32m-> 1055\u001b[0;31m             \u001b[0mself\u001b[0m\u001b[0;34m.\u001b[0m\u001b[0m_validate_features\u001b[0m\u001b[0;34m(\u001b[0m\u001b[0mdata\u001b[0m\u001b[0;34m)\u001b[0m\u001b[0;34m\u001b[0m\u001b[0m\n\u001b[0m\u001b[1;32m   1056\u001b[0m \u001b[0;34m\u001b[0m\u001b[0m\n\u001b[1;32m   1057\u001b[0m         \u001b[0mlength\u001b[0m \u001b[0;34m=\u001b[0m \u001b[0mc_bst_ulong\u001b[0m\u001b[0;34m(\u001b[0m\u001b[0;34m)\u001b[0m\u001b[0;34m\u001b[0m\u001b[0m\n",
      "\u001b[0;32m~/anaconda3/envs/mxnet_p36/lib/python3.6/site-packages/xgboost/core.py\u001b[0m in \u001b[0;36m_validate_features\u001b[0;34m(self, data)\u001b[0m\n\u001b[1;32m   1311\u001b[0m \u001b[0;34m\u001b[0m\u001b[0m\n\u001b[1;32m   1312\u001b[0m                 raise ValueError(msg.format(self.feature_names,\n\u001b[0;32m-> 1313\u001b[0;31m                                             data.feature_names))\n\u001b[0m\u001b[1;32m   1314\u001b[0m \u001b[0;34m\u001b[0m\u001b[0m\n\u001b[1;32m   1315\u001b[0m     \u001b[0;32mdef\u001b[0m \u001b[0mget_split_value_histogram\u001b[0m\u001b[0;34m(\u001b[0m\u001b[0mself\u001b[0m\u001b[0;34m,\u001b[0m \u001b[0mfeature\u001b[0m\u001b[0;34m,\u001b[0m \u001b[0mfmap\u001b[0m\u001b[0;34m=\u001b[0m\u001b[0;34m''\u001b[0m\u001b[0;34m,\u001b[0m \u001b[0mbins\u001b[0m\u001b[0;34m=\u001b[0m\u001b[0;32mNone\u001b[0m\u001b[0;34m,\u001b[0m \u001b[0mas_pandas\u001b[0m\u001b[0;34m=\u001b[0m\u001b[0;32mTrue\u001b[0m\u001b[0;34m)\u001b[0m\u001b[0;34m:\u001b[0m\u001b[0;34m\u001b[0m\u001b[0m\n",
      "\u001b[0;31mValueError\u001b[0m: feature_names mismatch: ['f0', 'f1', 'f2', 'f3', 'f4', 'f5', 'f6', 'f7', 'f8', 'f9', 'f10', 'f11', 'f12', 'f13', 'f14', 'f15', 'f16', 'f17', 'f18', 'f19', 'f20', 'f21', 'f22', 'f23', 'f24', 'f25', 'f26', 'f27', 'f28', 'f29', 'f30', 'f31', 'f32', 'f33', 'f34', 'f35', 'f36', 'f37', 'f38', 'f39', 'f40', 'f41', 'f42', 'f43', 'f44', 'f45', 'f46', 'f47', 'f48', 'f49', 'f50', 'f51', 'f52', 'f53', 'f54'] ['f0', 'f1', 'f2', 'f3', 'f4', 'f5', 'f6', 'f7', 'f8', 'f9', 'f10', 'f11', 'f12', 'f13', 'f14', 'f15', 'f16', 'f17', 'f18', 'f19', 'f20', 'f21', 'f22', 'f23', 'f24', 'f25', 'f26', 'f27', 'f28', 'f29', 'f30', 'f31', 'f32', 'f33', 'f34', 'f35', 'f36', 'f37', 'f38', 'f39', 'f40', 'f41', 'f42', 'f43', 'f44', 'f45', 'f46', 'f47', 'f48', 'f49', 'f50', 'f51', 'f52', 'f53']\nexpected f54 in input data"
     ]
    }
   ],
   "source": [
    "model.predict(data)"
   ]
  },
  {
   "cell_type": "code",
   "execution_count": 35,
   "metadata": {},
   "outputs": [
    {
     "data": {
      "text/plain": [
       "array([1.16700000e+03, 6.00000000e+01, 3.00000000e+00, 5.80000000e+01,\n",
       "       1.08520000e+04, 1.00000000e+00, 0.00000000e+00, 3.00000000e+00,\n",
       "       0.00000000e+00, 4.00000000e+00, 0.00000000e+00, 8.00000000e+00,\n",
       "       0.00000000e+00, 5.00000000e+00, 6.00000000e+00, 5.00000000e+00,\n",
       "       2.00000000e+03, 2.00000000e+03, 1.00000000e+00, 1.00000000e+00,\n",
       "       2.00000000e+00, 0.00000000e+00, 3.00000000e+00, 4.00000000e+00,\n",
       "       2.00000000e+00, 2.00000000e+00, 3.00000000e+00, 2.00000000e+00,\n",
       "       5.00000000e+00, 0.00000000e+00, 9.59000000e+02, 1.00000000e+00,\n",
       "       0.00000000e+00, 1.00000000e+00, 4.00000000e+00, 0.00000000e+00,\n",
       "       3.00000000e+00, 7.00000000e+00, 6.00000000e+00, 1.00000000e+00,\n",
       "       4.00000000e+00, 1.00000000e+00, 4.72000000e+02, 4.00000000e+00,\n",
       "       4.00000000e+00, 2.00000000e+00, 0.00000000e+00, 0.00000000e+00,\n",
       "       8.00000000e+00, 4.00000000e+00, 2.50000000e+01, 4.00000000e+00,\n",
       "       2.00616667e+03, 3.80000000e+01])"
      ]
     },
     "execution_count": 35,
     "metadata": {},
     "output_type": "execute_result"
    }
   ],
   "source": [
    "val_data[0]"
   ]
  },
  {
   "cell_type": "code",
   "execution_count": null,
   "metadata": {},
   "outputs": [],
   "source": []
  }
 ],
 "metadata": {
  "kernelspec": {
   "display_name": "conda_mxnet_p36",
   "language": "python",
   "name": "conda_mxnet_p36"
  },
  "language_info": {
   "codemirror_mode": {
    "name": "ipython",
    "version": 3
   },
   "file_extension": ".py",
   "mimetype": "text/x-python",
   "name": "python",
   "nbconvert_exporter": "python",
   "pygments_lexer": "ipython3",
   "version": "3.6.4"
  }
 },
 "nbformat": 4,
 "nbformat_minor": 2
}
